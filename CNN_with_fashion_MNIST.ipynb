{
  "nbformat": 4,
  "nbformat_minor": 0,
  "metadata": {
    "colab": {
      "provenance": []
    },
    "kernelspec": {
      "name": "python3",
      "display_name": "Python 3"
    },
    "language_info": {
      "name": "python"
    },
    "accelerator": "GPU",
    "gpuClass": "standard"
  },
  "cells": [
    {
      "cell_type": "code",
      "execution_count": 2,
      "metadata": {
        "id": "jgY3fkmxPPcG"
      },
      "outputs": [],
      "source": [
        "import tensorflow as tf\n",
        "import numpy as np\n",
        "import matplotlib.pyplot as plt\n",
        "from tensorflow.keras.layers import Input, Conv2D, Dense, Flatten, Dropout\n",
        "from tensorflow.keras.models import Model\n",
        "from tensorflow.keras.datasets import fashion_mnist"
      ]
    },
    {
      "cell_type": "code",
      "source": [
        "(x_train, y_train), (x_test, y_test) = fashion_mnist.load_data()\n",
        "x_train, x_test = x_train/255.0, x_test/255.0\n",
        "print(x_train.shape)"
      ],
      "metadata": {
        "colab": {
          "base_uri": "https://localhost:8080/"
        },
        "id": "ZoZiF9cKPrWe",
        "outputId": "76e74fd2-c2ce-4258-b109-3f46afbaa2c6"
      },
      "execution_count": 6,
      "outputs": [
        {
          "output_type": "stream",
          "name": "stdout",
          "text": [
            "(60000, 28, 28)\n"
          ]
        }
      ]
    },
    {
      "cell_type": "markdown",
      "source": [
        "Increasing the dimension to be 3D. the last added dimension for the color. as CNN expecting a 3d image input."
      ],
      "metadata": {
        "id": "2733WRM8RM-1"
      }
    },
    {
      "cell_type": "code",
      "source": [
        "x_train = np.expand_dims(x_train, -1)\n",
        "x_test = np.expand_dims(x_test, -1)\n",
        "print(x_train.shape)"
      ],
      "metadata": {
        "colab": {
          "base_uri": "https://localhost:8080/"
        },
        "id": "x-6tGPyRQ5R1",
        "outputId": "11422090-8181-4931-dfb2-0474bbe52d8d"
      },
      "execution_count": 7,
      "outputs": [
        {
          "output_type": "stream",
          "name": "stdout",
          "text": [
            "(60000, 28, 28, 1)\n"
          ]
        }
      ]
    },
    {
      "cell_type": "code",
      "source": [
        "# getting the number of classes\n",
        "\n",
        "print(len(set(y_train)))"
      ],
      "metadata": {
        "colab": {
          "base_uri": "https://localhost:8080/"
        },
        "id": "JvmB1qyFQ519",
        "outputId": "67f9be76-ed94-485b-abe2-aa6b2d90091e"
      },
      "execution_count": 8,
      "outputs": [
        {
          "output_type": "stream",
          "name": "stdout",
          "text": [
            "10\n"
          ]
        }
      ]
    },
    {
      "cell_type": "markdown",
      "source": [
        "## Build the CNN model"
      ],
      "metadata": {
        "id": "51V7a0oqRsT6"
      }
    },
    {
      "cell_type": "code",
      "source": [
        "i = Input(x_train[0].shape)\n",
        "# Conv2D(output Feature Map, filter dimension, stride to decrease the dimension by half, activation function)\n",
        "x = Conv2D(32, (3, 3), strides = 2, activation = 'relu')(i)\n",
        "x = Conv2D(64, (3, 3), strides = 2, activation = 'relu')(x)\n",
        "x = Conv2D(128, (3, 3), strides = 2, activation = 'relu')(x)\n",
        "\n",
        "x = Flatten()(x)\n",
        "x = Dropout(0.2)(x)\n",
        "x = Dense(512, activation = 'relu')(x)\n",
        "x = Dropout(0.2)(x)\n",
        "x = Dense(len(set(y_train)), activation = 'softmax')(x)\n",
        "\n",
        "model = Model(i, x)\n",
        "model.summary()"
      ],
      "metadata": {
        "colab": {
          "base_uri": "https://localhost:8080/"
        },
        "id": "Kqe4qCrwQ54m",
        "outputId": "d4e6eaaa-72a8-460b-c430-a7d623575bc4"
      },
      "execution_count": 16,
      "outputs": [
        {
          "output_type": "stream",
          "name": "stdout",
          "text": [
            "Model: \"model_4\"\n",
            "_________________________________________________________________\n",
            " Layer (type)                Output Shape              Param #   \n",
            "=================================================================\n",
            " input_7 (InputLayer)        [(None, 28, 28, 1)]       0         \n",
            "                                                                 \n",
            " conv2d_17 (Conv2D)          (None, 13, 13, 32)        320       \n",
            "                                                                 \n",
            " conv2d_18 (Conv2D)          (None, 6, 6, 64)          18496     \n",
            "                                                                 \n",
            " conv2d_19 (Conv2D)          (None, 2, 2, 128)         73856     \n",
            "                                                                 \n",
            " flatten_5 (Flatten)         (None, 512)               0         \n",
            "                                                                 \n",
            " dropout_8 (Dropout)         (None, 512)               0         \n",
            "                                                                 \n",
            " dense_8 (Dense)             (None, 512)               262656    \n",
            "                                                                 \n",
            " dropout_9 (Dropout)         (None, 512)               0         \n",
            "                                                                 \n",
            " dense_9 (Dense)             (None, 10)                5130      \n",
            "                                                                 \n",
            "=================================================================\n",
            "Total params: 360,458\n",
            "Trainable params: 360,458\n",
            "Non-trainable params: 0\n",
            "_________________________________________________________________\n"
          ]
        }
      ]
    },
    {
      "cell_type": "code",
      "source": [
        "model.compile(optimizer = 'adam', loss = 'sparse_categorical_crossentropy', metrics = ['accuracy'])\n",
        "hsitory = model.fit(x_train, y_train, validation_data = (x_test, y_test), epochs = 20, verbose = 1)"
      ],
      "metadata": {
        "colab": {
          "base_uri": "https://localhost:8080/"
        },
        "id": "R4_jp9ssQ57L",
        "outputId": "b4c5e7ae-ac2c-4564-ce7c-d6d3e09bc85f"
      },
      "execution_count": 20,
      "outputs": [
        {
          "output_type": "stream",
          "name": "stdout",
          "text": [
            "Epoch 1/20\n",
            "1875/1875 [==============================] - 7s 4ms/step - loss: 0.4891 - accuracy: 0.8185 - val_loss: 0.4306 - val_accuracy: 0.8382\n",
            "Epoch 2/20\n",
            "1875/1875 [==============================] - 7s 4ms/step - loss: 0.3625 - accuracy: 0.8656 - val_loss: 0.3426 - val_accuracy: 0.8729\n",
            "Epoch 3/20\n",
            "1875/1875 [==============================] - 7s 4ms/step - loss: 0.3116 - accuracy: 0.8834 - val_loss: 0.3197 - val_accuracy: 0.8809\n",
            "Epoch 4/20\n",
            "1875/1875 [==============================] - 7s 3ms/step - loss: 0.2805 - accuracy: 0.8939 - val_loss: 0.2982 - val_accuracy: 0.8897\n",
            "Epoch 5/20\n",
            "1875/1875 [==============================] - 7s 4ms/step - loss: 0.2554 - accuracy: 0.9048 - val_loss: 0.2902 - val_accuracy: 0.8949\n",
            "Epoch 6/20\n",
            "1875/1875 [==============================] - 7s 4ms/step - loss: 0.2327 - accuracy: 0.9114 - val_loss: 0.2966 - val_accuracy: 0.8936\n",
            "Epoch 7/20\n",
            "1875/1875 [==============================] - 8s 4ms/step - loss: 0.2146 - accuracy: 0.9185 - val_loss: 0.2922 - val_accuracy: 0.8978\n",
            "Epoch 8/20\n",
            "1875/1875 [==============================] - 7s 4ms/step - loss: 0.1975 - accuracy: 0.9251 - val_loss: 0.2930 - val_accuracy: 0.8985\n",
            "Epoch 9/20\n",
            "1875/1875 [==============================] - 7s 3ms/step - loss: 0.1828 - accuracy: 0.9314 - val_loss: 0.3171 - val_accuracy: 0.8944\n",
            "Epoch 10/20\n",
            "1875/1875 [==============================] - 7s 4ms/step - loss: 0.1710 - accuracy: 0.9350 - val_loss: 0.3243 - val_accuracy: 0.8969\n",
            "Epoch 11/20\n",
            "1875/1875 [==============================] - 6s 3ms/step - loss: 0.1627 - accuracy: 0.9378 - val_loss: 0.3305 - val_accuracy: 0.8969\n",
            "Epoch 12/20\n",
            "1875/1875 [==============================] - 7s 3ms/step - loss: 0.1491 - accuracy: 0.9428 - val_loss: 0.3214 - val_accuracy: 0.8982\n",
            "Epoch 13/20\n",
            "1875/1875 [==============================] - 7s 4ms/step - loss: 0.1455 - accuracy: 0.9439 - val_loss: 0.3302 - val_accuracy: 0.8997\n",
            "Epoch 14/20\n",
            "1875/1875 [==============================] - 7s 4ms/step - loss: 0.1354 - accuracy: 0.9482 - val_loss: 0.3337 - val_accuracy: 0.9013\n",
            "Epoch 15/20\n",
            "1875/1875 [==============================] - 7s 4ms/step - loss: 0.1252 - accuracy: 0.9518 - val_loss: 0.3753 - val_accuracy: 0.8945\n",
            "Epoch 16/20\n",
            "1875/1875 [==============================] - 7s 4ms/step - loss: 0.1247 - accuracy: 0.9518 - val_loss: 0.3561 - val_accuracy: 0.8994\n",
            "Epoch 17/20\n",
            "1875/1875 [==============================] - 6s 3ms/step - loss: 0.1163 - accuracy: 0.9555 - val_loss: 0.3714 - val_accuracy: 0.8992\n",
            "Epoch 18/20\n",
            "1875/1875 [==============================] - 6s 3ms/step - loss: 0.1119 - accuracy: 0.9564 - val_loss: 0.3506 - val_accuracy: 0.8986\n",
            "Epoch 19/20\n",
            "1875/1875 [==============================] - 6s 3ms/step - loss: 0.1096 - accuracy: 0.9586 - val_loss: 0.3907 - val_accuracy: 0.8987\n",
            "Epoch 20/20\n",
            "1875/1875 [==============================] - 7s 3ms/step - loss: 0.1051 - accuracy: 0.9604 - val_loss: 0.3779 - val_accuracy: 0.9019\n"
          ]
        }
      ]
    },
    {
      "cell_type": "code",
      "source": [
        "# loss per iteration\n",
        "plt.plot(hsitory.history['loss'], label = 'loss')\n",
        "plt.plot(hsitory.history['val_loss'], label = 'val_loss')\n",
        "plt.legend()"
      ],
      "metadata": {
        "colab": {
          "base_uri": "https://localhost:8080/",
          "height": 282
        },
        "id": "a2IrRU6vQ5-f",
        "outputId": "aa5c625a-5aa9-42c5-8891-bc26922f3b13"
      },
      "execution_count": 21,
      "outputs": [
        {
          "output_type": "execute_result",
          "data": {
            "text/plain": [
              "<matplotlib.legend.Legend at 0x7f3390731950>"
            ]
          },
          "metadata": {},
          "execution_count": 21
        },
        {
          "output_type": "display_data",
          "data": {
            "text/plain": [
              "<Figure size 432x288 with 1 Axes>"
            ],
            "image/png": "[encoded data removed]"
          },
          "metadata": {
            "needs_background": "light"
          }
        }
      ]
    },
    {
      "cell_type": "code",
      "source": [
        "# accuracy per iteration\n",
        "plt.plot(hsitory.history['accuracy'], label = 'accuracy')\n",
        "plt.plot(hsitory.history['val_accuracy'], label = 'val_accuracy')\n",
        "plt.legend()"
      ],
      "metadata": {
        "colab": {
          "base_uri": "https://localhost:8080/",
          "height": 282
        },
        "id": "W_dY2SqWVzl3",
        "outputId": "7adc62b4-3157-45c9-d9a5-ac2f39d9c1a4"
      },
      "execution_count": 22,
      "outputs": [
        {
          "output_type": "execute_result",
          "data": {
            "text/plain": [
              "<matplotlib.legend.Legend at 0x7f33917cc1d0>"
            ]
          },
          "metadata": {},
          "execution_count": 22
        },
        {
          "output_type": "display_data",
          "data": {
            "text/plain": [
              "<Figure size 432x288 with 1 Axes>"
            ],
            "image/png": "[encoded data removed]"
          },
          "metadata": {
            "needs_background": "light"
          }
        }
      ]
    },
    {
      "cell_type": "code",
      "source": [],
      "metadata": {
        "id": "YfwLrDovV_yO"
      },
      "execution_count": null,
      "outputs": []
    }
  ]
}